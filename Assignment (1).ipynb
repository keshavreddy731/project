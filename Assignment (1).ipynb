{
 "cells": [
  {
   "cell_type": "code",
   "execution_count": 1,
   "metadata": {},
   "outputs": [],
   "source": [
    "import pandas as pd\n",
    "import numpy as np"
   ]
  },
  {
   "cell_type": "code",
   "execution_count": 2,
   "metadata": {},
   "outputs": [
    {
     "data": {
      "text/html": [
       "<div>\n",
       "<style scoped>\n",
       "    .dataframe tbody tr th:only-of-type {\n",
       "        vertical-align: middle;\n",
       "    }\n",
       "\n",
       "    .dataframe tbody tr th {\n",
       "        vertical-align: top;\n",
       "    }\n",
       "\n",
       "    .dataframe thead th {\n",
       "        text-align: right;\n",
       "    }\n",
       "</style>\n",
       "<table border=\"1\" class=\"dataframe\">\n",
       "  <thead>\n",
       "    <tr style=\"text-align: right;\">\n",
       "      <th></th>\n",
       "      <th>outlet</th>\n",
       "      <th>brand</th>\n",
       "      <th>invoice_no</th>\n",
       "      <th>date</th>\n",
       "      <th>payment_type</th>\n",
       "      <th>status</th>\n",
       "      <th>channel</th>\n",
       "      <th>my_amount</th>\n",
       "      <th>total_tax</th>\n",
       "      <th>discount</th>\n",
       "      <th>...</th>\n",
       "      <th>container_charge</th>\n",
       "      <th>service_charge</th>\n",
       "      <th>waived_off</th>\n",
       "      <th>round_off</th>\n",
       "      <th>total</th>\n",
       "      <th>item_name</th>\n",
       "      <th>category_name</th>\n",
       "      <th>item_price</th>\n",
       "      <th>item_quantity</th>\n",
       "      <th>item_total</th>\n",
       "    </tr>\n",
       "  </thead>\n",
       "  <tbody>\n",
       "    <tr>\n",
       "      <th>0</th>\n",
       "      <td>Bigspoon (Ahmedabad - Bodakdev)</td>\n",
       "      <td>Meals101</td>\n",
       "      <td>54185</td>\n",
       "      <td>01-03-2021 11:10</td>\n",
       "      <td>Online</td>\n",
       "      <td>Success</td>\n",
       "      <td>Zomato</td>\n",
       "      <td>189</td>\n",
       "      <td>5.68</td>\n",
       "      <td>75.6</td>\n",
       "      <td>...</td>\n",
       "      <td>10</td>\n",
       "      <td>0</td>\n",
       "      <td>0</td>\n",
       "      <td>-0.08</td>\n",
       "      <td>129</td>\n",
       "      <td>Butter Chicken Rice Meal</td>\n",
       "      <td>Indian Meals [M101]</td>\n",
       "      <td>189</td>\n",
       "      <td>1</td>\n",
       "      <td>189</td>\n",
       "    </tr>\n",
       "    <tr>\n",
       "      <th>1</th>\n",
       "      <td>Bigspoon (Ahmedabad - Bodakdev)</td>\n",
       "      <td>Meals101</td>\n",
       "      <td>54186</td>\n",
       "      <td>01-03-2021 11:14</td>\n",
       "      <td>Online</td>\n",
       "      <td>Success</td>\n",
       "      <td>Swiggy</td>\n",
       "      <td>159</td>\n",
       "      <td>4.76</td>\n",
       "      <td>63.6</td>\n",
       "      <td>...</td>\n",
       "      <td>0</td>\n",
       "      <td>0</td>\n",
       "      <td>0</td>\n",
       "      <td>-0.16</td>\n",
       "      <td>100</td>\n",
       "      <td>Veg Dum Biryani Meal</td>\n",
       "      <td>Indian Meals [M101]</td>\n",
       "      <td>159</td>\n",
       "      <td>1</td>\n",
       "      <td>159</td>\n",
       "    </tr>\n",
       "    <tr>\n",
       "      <th>2</th>\n",
       "      <td>Bigspoon (Ahmedabad - Bodakdev)</td>\n",
       "      <td>Meals101</td>\n",
       "      <td>54187</td>\n",
       "      <td>01-03-2021 11:42</td>\n",
       "      <td>Online</td>\n",
       "      <td>Success</td>\n",
       "      <td>Swiggy</td>\n",
       "      <td>169</td>\n",
       "      <td>5.08</td>\n",
       "      <td>67.6</td>\n",
       "      <td>...</td>\n",
       "      <td>0</td>\n",
       "      <td>0</td>\n",
       "      <td>0</td>\n",
       "      <td>-0.48</td>\n",
       "      <td>106</td>\n",
       "      <td>Hot Garlic Schezwan Chicken &amp; Veg Fried Rice Meal</td>\n",
       "      <td>Chinese Meals [M101]</td>\n",
       "      <td>169</td>\n",
       "      <td>1</td>\n",
       "      <td>169</td>\n",
       "    </tr>\n",
       "    <tr>\n",
       "      <th>3</th>\n",
       "      <td>Bigspoon (Ahmedabad - Bodakdev)</td>\n",
       "      <td>Makhni Brothers</td>\n",
       "      <td>54188</td>\n",
       "      <td>01-03-2021 11:43</td>\n",
       "      <td>Online</td>\n",
       "      <td>Success</td>\n",
       "      <td>Swiggy</td>\n",
       "      <td>507</td>\n",
       "      <td>17.86</td>\n",
       "      <td>150.0</td>\n",
       "      <td>...</td>\n",
       "      <td>0</td>\n",
       "      <td>0</td>\n",
       "      <td>0</td>\n",
       "      <td>0.14</td>\n",
       "      <td>375</td>\n",
       "      <td>Veg. Lunch Pack Thali</td>\n",
       "      <td>Lunch Packs Thali [MB]</td>\n",
       "      <td>169</td>\n",
       "      <td>3</td>\n",
       "      <td>507</td>\n",
       "    </tr>\n",
       "    <tr>\n",
       "      <th>4</th>\n",
       "      <td>Bigspoon (Ahmedabad - Bodakdev)</td>\n",
       "      <td>Meals101</td>\n",
       "      <td>54189</td>\n",
       "      <td>01-03-2021 11:47</td>\n",
       "      <td>Online</td>\n",
       "      <td>Success</td>\n",
       "      <td>Zomato</td>\n",
       "      <td>328</td>\n",
       "      <td>11.40</td>\n",
       "      <td>100.0</td>\n",
       "      <td>...</td>\n",
       "      <td>10</td>\n",
       "      <td>0</td>\n",
       "      <td>0</td>\n",
       "      <td>-0.40</td>\n",
       "      <td>249</td>\n",
       "      <td>Chicken Chilli &amp; Egg Fried Rice Meal</td>\n",
       "      <td>Egg Fried Rice Meals [M101]</td>\n",
       "      <td>179</td>\n",
       "      <td>1</td>\n",
       "      <td>179</td>\n",
       "    </tr>\n",
       "  </tbody>\n",
       "</table>\n",
       "<p>5 rows × 21 columns</p>\n",
       "</div>"
      ],
      "text/plain": [
       "                            outlet            brand  invoice_no  \\\n",
       "0  Bigspoon (Ahmedabad - Bodakdev)         Meals101       54185   \n",
       "1  Bigspoon (Ahmedabad - Bodakdev)         Meals101       54186   \n",
       "2  Bigspoon (Ahmedabad - Bodakdev)         Meals101       54187   \n",
       "3  Bigspoon (Ahmedabad - Bodakdev)  Makhni Brothers       54188   \n",
       "4  Bigspoon (Ahmedabad - Bodakdev)         Meals101       54189   \n",
       "\n",
       "               date payment_type   status channel  my_amount  total_tax  \\\n",
       "0  01-03-2021 11:10       Online  Success  Zomato        189       5.68   \n",
       "1  01-03-2021 11:14       Online  Success  Swiggy        159       4.76   \n",
       "2  01-03-2021 11:42       Online  Success  Swiggy        169       5.08   \n",
       "3  01-03-2021 11:43       Online  Success  Swiggy        507      17.86   \n",
       "4  01-03-2021 11:47       Online  Success  Zomato        328      11.40   \n",
       "\n",
       "   discount  ...  container_charge  service_charge  waived_off  round_off  \\\n",
       "0      75.6  ...                10               0           0      -0.08   \n",
       "1      63.6  ...                 0               0           0      -0.16   \n",
       "2      67.6  ...                 0               0           0      -0.48   \n",
       "3     150.0  ...                 0               0           0       0.14   \n",
       "4     100.0  ...                10               0           0      -0.40   \n",
       "\n",
       "   total                                          item_name  \\\n",
       "0    129                           Butter Chicken Rice Meal   \n",
       "1    100                               Veg Dum Biryani Meal   \n",
       "2    106  Hot Garlic Schezwan Chicken & Veg Fried Rice Meal   \n",
       "3    375                              Veg. Lunch Pack Thali   \n",
       "4    249               Chicken Chilli & Egg Fried Rice Meal   \n",
       "\n",
       "                 category_name item_price  item_quantity  item_total  \n",
       "0          Indian Meals [M101]        189              1         189  \n",
       "1          Indian Meals [M101]        159              1         159  \n",
       "2         Chinese Meals [M101]        169              1         169  \n",
       "3       Lunch Packs Thali [MB]        169              3         507  \n",
       "4  Egg Fried Rice Meals [M101]        179              1         179  \n",
       "\n",
       "[5 rows x 21 columns]"
      ]
     },
     "execution_count": 2,
     "metadata": {},
     "output_type": "execute_result"
    }
   ],
   "source": [
    "data = pd.read_csv(\"Downloads\\BI Analyst - Assignment - Sheet1.csv\")\n",
    "data.head()"
   ]
  },
  {
   "cell_type": "code",
   "execution_count": 3,
   "metadata": {},
   "outputs": [
    {
     "name": "stdout",
     "output_type": "stream",
     "text": [
      "(32938, 21)\n",
      "<class 'pandas.core.frame.DataFrame'>\n",
      "RangeIndex: 32938 entries, 0 to 32937\n",
      "Data columns (total 21 columns):\n",
      " #   Column            Non-Null Count  Dtype  \n",
      "---  ------            --------------  -----  \n",
      " 0   outlet            32938 non-null  object \n",
      " 1   brand             32938 non-null  object \n",
      " 2   invoice_no        32938 non-null  int64  \n",
      " 3   date              32938 non-null  object \n",
      " 4   payment_type      32938 non-null  object \n",
      " 5   status            32938 non-null  object \n",
      " 6   channel           32938 non-null  object \n",
      " 7   my_amount         32938 non-null  int64  \n",
      " 8   total_tax         32938 non-null  float64\n",
      " 9   discount          32938 non-null  float64\n",
      " 10  delivery_charge   32938 non-null  int64  \n",
      " 11  container_charge  32938 non-null  int64  \n",
      " 12  service_charge    32938 non-null  int64  \n",
      " 13  waived_off        32938 non-null  int64  \n",
      " 14  round_off         32938 non-null  float64\n",
      " 15  total             32938 non-null  int64  \n",
      " 16  item_name         32938 non-null  object \n",
      " 17  category_name     32938 non-null  object \n",
      " 18  item_price        32938 non-null  int64  \n",
      " 19  item_quantity     32938 non-null  int64  \n",
      " 20  item_total        32938 non-null  int64  \n",
      "dtypes: float64(3), int64(10), object(8)\n",
      "memory usage: 5.3+ MB\n",
      "None\n",
      "         invoice_no     my_amount     total_tax      discount  \\\n",
      "count  32938.000000  32938.000000  32938.000000  32938.000000   \n",
      "mean   25096.938065    343.306272     12.394819     95.460576   \n",
      "std    20359.106902    295.242533     12.717100    111.402971   \n",
      "min        1.000000     30.000000      0.000000      0.000000   \n",
      "25%     6076.250000    179.000000      5.080000     71.600000   \n",
      "50%    21998.500000    247.000000      8.000000     84.500000   \n",
      "75%    54300.750000    388.000000     14.700000    100.000000   \n",
      "max    60164.000000   4829.000000    178.860000   3502.000000   \n",
      "\n",
      "       delivery_charge  container_charge  service_charge  waived_off  \\\n",
      "count     32938.000000      32938.000000         32938.0     32938.0   \n",
      "mean          2.227215         10.442134             0.0         0.0   \n",
      "std           8.111400         12.033089             0.0         0.0   \n",
      "min           0.000000          0.000000             0.0         0.0   \n",
      "25%           0.000000          0.000000             0.0         0.0   \n",
      "50%           0.000000         10.000000             0.0         0.0   \n",
      "75%           0.000000         15.000000             0.0         0.0   \n",
      "max          80.000000        352.000000             0.0         0.0   \n",
      "\n",
      "          round_off         total    item_price  item_quantity    item_total  \n",
      "count  32938.000000  32938.000000  32938.000000   32938.000000  32938.000000  \n",
      "mean      -0.061313    272.848564    191.071680       1.123596    207.145850  \n",
      "std        0.300773    271.430706     87.893531       0.619188    120.886422  \n",
      "min       -0.490000      0.000000     10.000000       1.000000     10.000000  \n",
      "25%       -0.380000    116.000000    149.000000       1.000000    155.000000  \n",
      "50%        0.000000    183.000000    179.000000       1.000000    180.000000  \n",
      "75%        0.160000    322.000000    229.000000       1.000000    239.000000  \n",
      "max        0.500000   3800.000000   1529.000000      25.000000   4577.000000  \n"
     ]
    }
   ],
   "source": [
    "print(data.shape)\n",
    "print(data.info())\n",
    "print(data.describe())"
   ]
  },
  {
   "cell_type": "code",
   "execution_count": 4,
   "metadata": {},
   "outputs": [
    {
     "data": {
      "text/plain": [
       "0   2021-03-01\n",
       "1   2021-03-01\n",
       "2   2021-03-01\n",
       "3   2021-03-01\n",
       "4   2021-03-01\n",
       "Name: New_date, dtype: datetime64[ns]"
      ]
     },
     "execution_count": 4,
     "metadata": {},
     "output_type": "execute_result"
    }
   ],
   "source": [
    "data['New_date'] =  data['date'].apply(lambda x : x.split(' ')[0])\n",
    "data['New_date'] = pd.to_datetime(data['New_date'],format = '%d-%m-%Y')\n",
    "data.New_date.head()"
   ]
  },
  {
   "cell_type": "code",
   "execution_count": 5,
   "metadata": {},
   "outputs": [
    {
     "data": {
      "text/plain": [
       "0    1\n",
       "1    1\n",
       "2    1\n",
       "3    1\n",
       "4    1\n",
       "Name: day, dtype: int64"
      ]
     },
     "execution_count": 5,
     "metadata": {},
     "output_type": "execute_result"
    }
   ],
   "source": [
    "data['day'] =data['New_date'].dt.day\n",
    "data.day.head()"
   ]
  },
  {
   "cell_type": "code",
   "execution_count": 6,
   "metadata": {},
   "outputs": [
    {
     "data": {
      "text/html": [
       "<div>\n",
       "<style scoped>\n",
       "    .dataframe tbody tr th:only-of-type {\n",
       "        vertical-align: middle;\n",
       "    }\n",
       "\n",
       "    .dataframe tbody tr th {\n",
       "        vertical-align: top;\n",
       "    }\n",
       "\n",
       "    .dataframe thead th {\n",
       "        text-align: right;\n",
       "    }\n",
       "</style>\n",
       "<table border=\"1\" class=\"dataframe\">\n",
       "  <thead>\n",
       "    <tr style=\"text-align: right;\">\n",
       "      <th></th>\n",
       "      <th>outlet</th>\n",
       "      <th>brand</th>\n",
       "      <th>invoice_no</th>\n",
       "      <th>date</th>\n",
       "      <th>payment_type</th>\n",
       "      <th>status</th>\n",
       "      <th>channel</th>\n",
       "      <th>my_amount</th>\n",
       "      <th>total_tax</th>\n",
       "      <th>discount</th>\n",
       "      <th>...</th>\n",
       "      <th>waived_off</th>\n",
       "      <th>round_off</th>\n",
       "      <th>total</th>\n",
       "      <th>item_name</th>\n",
       "      <th>category_name</th>\n",
       "      <th>item_price</th>\n",
       "      <th>item_quantity</th>\n",
       "      <th>item_total</th>\n",
       "      <th>New_date</th>\n",
       "      <th>day</th>\n",
       "    </tr>\n",
       "  </thead>\n",
       "  <tbody>\n",
       "    <tr>\n",
       "      <th>0</th>\n",
       "      <td>Bigspoon (Ahmedabad - Bodakdev)</td>\n",
       "      <td>Meals101</td>\n",
       "      <td>54185</td>\n",
       "      <td>01-03-2021 11:10</td>\n",
       "      <td>Online</td>\n",
       "      <td>Success</td>\n",
       "      <td>Zomato</td>\n",
       "      <td>189</td>\n",
       "      <td>5.68</td>\n",
       "      <td>75.6</td>\n",
       "      <td>...</td>\n",
       "      <td>0</td>\n",
       "      <td>-0.08</td>\n",
       "      <td>129</td>\n",
       "      <td>Butter Chicken Rice Meal</td>\n",
       "      <td>Indian Meals [M101]</td>\n",
       "      <td>189</td>\n",
       "      <td>1</td>\n",
       "      <td>189</td>\n",
       "      <td>2021-03-01</td>\n",
       "      <td>1</td>\n",
       "    </tr>\n",
       "    <tr>\n",
       "      <th>1</th>\n",
       "      <td>Bigspoon (Ahmedabad - Bodakdev)</td>\n",
       "      <td>Meals101</td>\n",
       "      <td>54186</td>\n",
       "      <td>01-03-2021 11:14</td>\n",
       "      <td>Online</td>\n",
       "      <td>Success</td>\n",
       "      <td>Swiggy</td>\n",
       "      <td>159</td>\n",
       "      <td>4.76</td>\n",
       "      <td>63.6</td>\n",
       "      <td>...</td>\n",
       "      <td>0</td>\n",
       "      <td>-0.16</td>\n",
       "      <td>100</td>\n",
       "      <td>Veg Dum Biryani Meal</td>\n",
       "      <td>Indian Meals [M101]</td>\n",
       "      <td>159</td>\n",
       "      <td>1</td>\n",
       "      <td>159</td>\n",
       "      <td>2021-03-01</td>\n",
       "      <td>1</td>\n",
       "    </tr>\n",
       "    <tr>\n",
       "      <th>2</th>\n",
       "      <td>Bigspoon (Ahmedabad - Bodakdev)</td>\n",
       "      <td>Meals101</td>\n",
       "      <td>54187</td>\n",
       "      <td>01-03-2021 11:42</td>\n",
       "      <td>Online</td>\n",
       "      <td>Success</td>\n",
       "      <td>Swiggy</td>\n",
       "      <td>169</td>\n",
       "      <td>5.08</td>\n",
       "      <td>67.6</td>\n",
       "      <td>...</td>\n",
       "      <td>0</td>\n",
       "      <td>-0.48</td>\n",
       "      <td>106</td>\n",
       "      <td>Hot Garlic Schezwan Chicken &amp; Veg Fried Rice Meal</td>\n",
       "      <td>Chinese Meals [M101]</td>\n",
       "      <td>169</td>\n",
       "      <td>1</td>\n",
       "      <td>169</td>\n",
       "      <td>2021-03-01</td>\n",
       "      <td>1</td>\n",
       "    </tr>\n",
       "    <tr>\n",
       "      <th>3</th>\n",
       "      <td>Bigspoon (Ahmedabad - Bodakdev)</td>\n",
       "      <td>Makhni Brothers</td>\n",
       "      <td>54188</td>\n",
       "      <td>01-03-2021 11:43</td>\n",
       "      <td>Online</td>\n",
       "      <td>Success</td>\n",
       "      <td>Swiggy</td>\n",
       "      <td>507</td>\n",
       "      <td>17.86</td>\n",
       "      <td>150.0</td>\n",
       "      <td>...</td>\n",
       "      <td>0</td>\n",
       "      <td>0.14</td>\n",
       "      <td>375</td>\n",
       "      <td>Veg. Lunch Pack Thali</td>\n",
       "      <td>Lunch Packs Thali [MB]</td>\n",
       "      <td>169</td>\n",
       "      <td>3</td>\n",
       "      <td>507</td>\n",
       "      <td>2021-03-01</td>\n",
       "      <td>1</td>\n",
       "    </tr>\n",
       "    <tr>\n",
       "      <th>4</th>\n",
       "      <td>Bigspoon (Ahmedabad - Bodakdev)</td>\n",
       "      <td>Meals101</td>\n",
       "      <td>54189</td>\n",
       "      <td>01-03-2021 11:47</td>\n",
       "      <td>Online</td>\n",
       "      <td>Success</td>\n",
       "      <td>Zomato</td>\n",
       "      <td>328</td>\n",
       "      <td>11.40</td>\n",
       "      <td>100.0</td>\n",
       "      <td>...</td>\n",
       "      <td>0</td>\n",
       "      <td>-0.40</td>\n",
       "      <td>249</td>\n",
       "      <td>Chicken Chilli &amp; Egg Fried Rice Meal</td>\n",
       "      <td>Egg Fried Rice Meals [M101]</td>\n",
       "      <td>179</td>\n",
       "      <td>1</td>\n",
       "      <td>179</td>\n",
       "      <td>2021-03-01</td>\n",
       "      <td>1</td>\n",
       "    </tr>\n",
       "  </tbody>\n",
       "</table>\n",
       "<p>5 rows × 23 columns</p>\n",
       "</div>"
      ],
      "text/plain": [
       "                            outlet            brand  invoice_no  \\\n",
       "0  Bigspoon (Ahmedabad - Bodakdev)         Meals101       54185   \n",
       "1  Bigspoon (Ahmedabad - Bodakdev)         Meals101       54186   \n",
       "2  Bigspoon (Ahmedabad - Bodakdev)         Meals101       54187   \n",
       "3  Bigspoon (Ahmedabad - Bodakdev)  Makhni Brothers       54188   \n",
       "4  Bigspoon (Ahmedabad - Bodakdev)         Meals101       54189   \n",
       "\n",
       "               date payment_type   status channel  my_amount  total_tax  \\\n",
       "0  01-03-2021 11:10       Online  Success  Zomato        189       5.68   \n",
       "1  01-03-2021 11:14       Online  Success  Swiggy        159       4.76   \n",
       "2  01-03-2021 11:42       Online  Success  Swiggy        169       5.08   \n",
       "3  01-03-2021 11:43       Online  Success  Swiggy        507      17.86   \n",
       "4  01-03-2021 11:47       Online  Success  Zomato        328      11.40   \n",
       "\n",
       "   discount  ...  waived_off  round_off  total  \\\n",
       "0      75.6  ...           0      -0.08    129   \n",
       "1      63.6  ...           0      -0.16    100   \n",
       "2      67.6  ...           0      -0.48    106   \n",
       "3     150.0  ...           0       0.14    375   \n",
       "4     100.0  ...           0      -0.40    249   \n",
       "\n",
       "                                           item_name  \\\n",
       "0                           Butter Chicken Rice Meal   \n",
       "1                               Veg Dum Biryani Meal   \n",
       "2  Hot Garlic Schezwan Chicken & Veg Fried Rice Meal   \n",
       "3                              Veg. Lunch Pack Thali   \n",
       "4               Chicken Chilli & Egg Fried Rice Meal   \n",
       "\n",
       "                 category_name  item_price item_quantity item_total  \\\n",
       "0          Indian Meals [M101]         189             1        189   \n",
       "1          Indian Meals [M101]         159             1        159   \n",
       "2         Chinese Meals [M101]         169             1        169   \n",
       "3       Lunch Packs Thali [MB]         169             3        507   \n",
       "4  Egg Fried Rice Meals [M101]         179             1        179   \n",
       "\n",
       "    New_date  day  \n",
       "0 2021-03-01    1  \n",
       "1 2021-03-01    1  \n",
       "2 2021-03-01    1  \n",
       "3 2021-03-01    1  \n",
       "4 2021-03-01    1  \n",
       "\n",
       "[5 rows x 23 columns]"
      ]
     },
     "execution_count": 6,
     "metadata": {},
     "output_type": "execute_result"
    }
   ],
   "source": [
    "data.head()"
   ]
  },
  {
   "cell_type": "code",
   "execution_count": 7,
   "metadata": {},
   "outputs": [
    {
     "name": "stdout",
     "output_type": "stream",
     "text": [
      "The total GMV of BigSpoon for march is  6822970\n",
      "Total no.of transactions in March are  32938\n"
     ]
    }
   ],
   "source": [
    "gmv =data.item_total.sum()\n",
    "transactions = data.shape[0]\n",
    "print(\"The total GMV of BigSpoon for march is \",gmv)\n",
    "print(\"Total no.of transactions in March are \",transactions)"
   ]
  },
  {
   "cell_type": "code",
   "execution_count": 8,
   "metadata": {},
   "outputs": [],
   "source": [
    "sum_orders = data.groupby('day').item_total.sum()\n",
    "No_of_orders = data.groupby('day').item_quantity.sum()"
   ]
  },
  {
   "cell_type": "code",
   "execution_count": 9,
   "metadata": {},
   "outputs": [],
   "source": [
    "sum_orders=pd.DataFrame(sum_orders)\n",
    "No_of_orders=pd.DataFrame(No_of_orders)\n"
   ]
  },
  {
   "cell_type": "code",
   "execution_count": 10,
   "metadata": {},
   "outputs": [],
   "source": [
    "day = {\"Day\":[0,1, 2, 3,4,5,6,7,8,9,10,11,12,13,14,15,16,17,18,19,20,21,22,23,24,25,26,27,28,29,30,31]}\n",
    "day = pd.DataFrame(day)"
   ]
  },
  {
   "cell_type": "code",
   "execution_count": 11,
   "metadata": {},
   "outputs": [
    {
     "data": {
      "text/html": [
       "<div>\n",
       "<style scoped>\n",
       "    .dataframe tbody tr th:only-of-type {\n",
       "        vertical-align: middle;\n",
       "    }\n",
       "\n",
       "    .dataframe tbody tr th {\n",
       "        vertical-align: top;\n",
       "    }\n",
       "\n",
       "    .dataframe thead th {\n",
       "        text-align: right;\n",
       "    }\n",
       "</style>\n",
       "<table border=\"1\" class=\"dataframe\">\n",
       "  <thead>\n",
       "    <tr style=\"text-align: right;\">\n",
       "      <th></th>\n",
       "      <th>item_total</th>\n",
       "      <th>item_quantity</th>\n",
       "      <th>Day</th>\n",
       "    </tr>\n",
       "  </thead>\n",
       "  <tbody>\n",
       "    <tr>\n",
       "      <th>0</th>\n",
       "      <td>NaN</td>\n",
       "      <td>NaN</td>\n",
       "      <td>0</td>\n",
       "    </tr>\n",
       "    <tr>\n",
       "      <th>1</th>\n",
       "      <td>169243.0</td>\n",
       "      <td>1005.0</td>\n",
       "      <td>1</td>\n",
       "    </tr>\n",
       "    <tr>\n",
       "      <th>2</th>\n",
       "      <td>192342.0</td>\n",
       "      <td>1115.0</td>\n",
       "      <td>2</td>\n",
       "    </tr>\n",
       "    <tr>\n",
       "      <th>3</th>\n",
       "      <td>202368.0</td>\n",
       "      <td>1113.0</td>\n",
       "      <td>3</td>\n",
       "    </tr>\n",
       "    <tr>\n",
       "      <th>4</th>\n",
       "      <td>209424.0</td>\n",
       "      <td>1189.0</td>\n",
       "      <td>4</td>\n",
       "    </tr>\n",
       "  </tbody>\n",
       "</table>\n",
       "</div>"
      ],
      "text/plain": [
       "   item_total  item_quantity  Day\n",
       "0         NaN            NaN    0\n",
       "1    169243.0         1005.0    1\n",
       "2    192342.0         1115.0    2\n",
       "3    202368.0         1113.0    3\n",
       "4    209424.0         1189.0    4"
      ]
     },
     "execution_count": 11,
     "metadata": {},
     "output_type": "execute_result"
    }
   ],
   "source": [
    "AOV_df = pd.concat([sum_orders,No_of_orders,day],axis=1)\n",
    "AOV_df.head()"
   ]
  },
  {
   "cell_type": "code",
   "execution_count": 12,
   "metadata": {},
   "outputs": [
    {
     "data": {
      "text/html": [
       "<div>\n",
       "<style scoped>\n",
       "    .dataframe tbody tr th:only-of-type {\n",
       "        vertical-align: middle;\n",
       "    }\n",
       "\n",
       "    .dataframe tbody tr th {\n",
       "        vertical-align: top;\n",
       "    }\n",
       "\n",
       "    .dataframe thead th {\n",
       "        text-align: right;\n",
       "    }\n",
       "</style>\n",
       "<table border=\"1\" class=\"dataframe\">\n",
       "  <thead>\n",
       "    <tr style=\"text-align: right;\">\n",
       "      <th></th>\n",
       "      <th>item_total</th>\n",
       "      <th>item_quantity</th>\n",
       "      <th>Day</th>\n",
       "    </tr>\n",
       "  </thead>\n",
       "  <tbody>\n",
       "    <tr>\n",
       "      <th>1</th>\n",
       "      <td>169243.0</td>\n",
       "      <td>1005.0</td>\n",
       "      <td>1</td>\n",
       "    </tr>\n",
       "    <tr>\n",
       "      <th>2</th>\n",
       "      <td>192342.0</td>\n",
       "      <td>1115.0</td>\n",
       "      <td>2</td>\n",
       "    </tr>\n",
       "    <tr>\n",
       "      <th>3</th>\n",
       "      <td>202368.0</td>\n",
       "      <td>1113.0</td>\n",
       "      <td>3</td>\n",
       "    </tr>\n",
       "    <tr>\n",
       "      <th>4</th>\n",
       "      <td>209424.0</td>\n",
       "      <td>1189.0</td>\n",
       "      <td>4</td>\n",
       "    </tr>\n",
       "    <tr>\n",
       "      <th>5</th>\n",
       "      <td>218134.0</td>\n",
       "      <td>1254.0</td>\n",
       "      <td>5</td>\n",
       "    </tr>\n",
       "  </tbody>\n",
       "</table>\n",
       "</div>"
      ],
      "text/plain": [
       "   item_total  item_quantity  Day\n",
       "1    169243.0         1005.0    1\n",
       "2    192342.0         1115.0    2\n",
       "3    202368.0         1113.0    3\n",
       "4    209424.0         1189.0    4\n",
       "5    218134.0         1254.0    5"
      ]
     },
     "execution_count": 12,
     "metadata": {},
     "output_type": "execute_result"
    }
   ],
   "source": [
    "AOV_df.drop(0,inplace=True)\n",
    "AOV_df.head()"
   ]
  },
  {
   "cell_type": "code",
   "execution_count": 13,
   "metadata": {},
   "outputs": [],
   "source": [
    "AOV_df[['AOV']] = (AOV_df['item_total']/AOV_df['item_quantity'])"
   ]
  },
  {
   "cell_type": "code",
   "execution_count": 14,
   "metadata": {},
   "outputs": [],
   "source": [
    "AOV_df[['AOV']] = np.round(AOV_df[['AOV']],2)"
   ]
  },
  {
   "cell_type": "code",
   "execution_count": 15,
   "metadata": {},
   "outputs": [
    {
     "data": {
      "text/html": [
       "<div>\n",
       "<style scoped>\n",
       "    .dataframe tbody tr th:only-of-type {\n",
       "        vertical-align: middle;\n",
       "    }\n",
       "\n",
       "    .dataframe tbody tr th {\n",
       "        vertical-align: top;\n",
       "    }\n",
       "\n",
       "    .dataframe thead th {\n",
       "        text-align: right;\n",
       "    }\n",
       "</style>\n",
       "<table border=\"1\" class=\"dataframe\">\n",
       "  <thead>\n",
       "    <tr style=\"text-align: right;\">\n",
       "      <th></th>\n",
       "      <th>item_total</th>\n",
       "      <th>item_quantity</th>\n",
       "      <th>Day</th>\n",
       "      <th>AOV</th>\n",
       "    </tr>\n",
       "  </thead>\n",
       "  <tbody>\n",
       "    <tr>\n",
       "      <th>1</th>\n",
       "      <td>169243.0</td>\n",
       "      <td>1005.0</td>\n",
       "      <td>1</td>\n",
       "      <td>168.40</td>\n",
       "    </tr>\n",
       "    <tr>\n",
       "      <th>2</th>\n",
       "      <td>192342.0</td>\n",
       "      <td>1115.0</td>\n",
       "      <td>2</td>\n",
       "      <td>172.50</td>\n",
       "    </tr>\n",
       "    <tr>\n",
       "      <th>3</th>\n",
       "      <td>202368.0</td>\n",
       "      <td>1113.0</td>\n",
       "      <td>3</td>\n",
       "      <td>181.82</td>\n",
       "    </tr>\n",
       "    <tr>\n",
       "      <th>4</th>\n",
       "      <td>209424.0</td>\n",
       "      <td>1189.0</td>\n",
       "      <td>4</td>\n",
       "      <td>176.13</td>\n",
       "    </tr>\n",
       "    <tr>\n",
       "      <th>5</th>\n",
       "      <td>218134.0</td>\n",
       "      <td>1254.0</td>\n",
       "      <td>5</td>\n",
       "      <td>173.95</td>\n",
       "    </tr>\n",
       "  </tbody>\n",
       "</table>\n",
       "</div>"
      ],
      "text/plain": [
       "   item_total  item_quantity  Day     AOV\n",
       "1    169243.0         1005.0    1  168.40\n",
       "2    192342.0         1115.0    2  172.50\n",
       "3    202368.0         1113.0    3  181.82\n",
       "4    209424.0         1189.0    4  176.13\n",
       "5    218134.0         1254.0    5  173.95"
      ]
     },
     "execution_count": 15,
     "metadata": {},
     "output_type": "execute_result"
    }
   ],
   "source": [
    "AOV_df.head()"
   ]
  },
  {
   "cell_type": "code",
   "execution_count": 16,
   "metadata": {
    "scrolled": true
   },
   "outputs": [
    {
     "name": "stdout",
     "output_type": "stream",
     "text": [
      "The total value of order is  6822970.0\n",
      "The total Number of orders are  37009.0\n",
      "The Overall AOV is  184.36\n"
     ]
    }
   ],
   "source": [
    "overall_order_value = AOV_df.item_total.sum()\n",
    "overall_orders = AOV_df.item_quantity.sum()\n",
    "overall_AOV = np.round((overall_order_value/overall_orders),2)\n",
    "print('The total value of order is ',overall_order_value)\n",
    "print('The total Number of orders are ',overall_orders)\n",
    "print('The Overall AOV is ',overall_AOV)"
   ]
  },
  {
   "cell_type": "code",
   "execution_count": 17,
   "metadata": {},
   "outputs": [
    {
     "data": {
      "text/plain": [
       "<AxesSubplot:title={'center':'Average value of orders'}, xlabel='Day'>"
      ]
     },
     "execution_count": 17,
     "metadata": {},
     "output_type": "execute_result"
    },
    {
     "data": {
      "image/png": "[encoded data removed]",
      "text/plain": [
       "<Figure size 432x288 with 1 Axes>"
      ]
     },
     "metadata": {
      "needs_background": "light"
     },
     "output_type": "display_data"
    }
   ],
   "source": [
    "AOV_df.plot('Day','AOV',title =\"Average value of orders\",marker =\"o\",label ='AOV')"
   ]
  },
  {
   "cell_type": "code",
   "execution_count": 18,
   "metadata": {},
   "outputs": [
    {
     "data": {
      "image/png": "[encoded data removed]",
      "text/plain": [
       "<Figure size 1440x720 with 1 Axes>"
      ]
     },
     "metadata": {
      "needs_background": "light"
     },
     "output_type": "display_data"
    }
   ],
   "source": [
    "sum_orders_outlet = data.groupby('outlet').item_total.sum()\n",
    "No_of_orders_outlet = data.groupby('outlet').item_quantity.sum()\n",
    "sum_orders_outlet=pd.DataFrame(sum_orders_outlet)\n",
    "No_of_orders_outlet=pd.DataFrame(No_of_orders_outlet)\n",
    "outlet_df = pd.concat([sum_orders_outlet,No_of_orders_outlet],axis=1)\n",
    "outlet_df.reset_index(inplace=True)\n",
    "outlet_df[['AOV']] = np.round(outlet_df['item_total']/outlet_df['item_quantity'],2)\n",
    "outlet_df['outlet'] = outlet_df['outlet'].apply(lambda x : x.split('-')[1])\n",
    "import matplotlib.pyplot as plt\n",
    "outlet_df=outlet_df.sort_values('AOV')\n",
    "plt.figure(figsize=(20,10))\n",
    "plt.bar(outlet_df['outlet'],outlet_df['AOV'],color ='skyblue',width = 0.4)\n",
    "plt.xlabel(\"BigSpoon Outlets\")\n",
    "plt.ylabel(\"Average AOV\")\n",
    "plt.title(\"Average AOV in all the outlets\")\n",
    "plt.show()"
   ]
  },
  {
   "cell_type": "code",
   "execution_count": 22,
   "metadata": {},
   "outputs": [
    {
     "data": {
      "text/html": [
       "<div>\n",
       "<style scoped>\n",
       "    .dataframe tbody tr th:only-of-type {\n",
       "        vertical-align: middle;\n",
       "    }\n",
       "\n",
       "    .dataframe tbody tr th {\n",
       "        vertical-align: top;\n",
       "    }\n",
       "\n",
       "    .dataframe thead th {\n",
       "        text-align: right;\n",
       "    }\n",
       "</style>\n",
       "<table border=\"1\" class=\"dataframe\">\n",
       "  <thead>\n",
       "    <tr style=\"text-align: right;\">\n",
       "      <th></th>\n",
       "      <th>outlet</th>\n",
       "      <th>item_total</th>\n",
       "      <th>item_quantity</th>\n",
       "      <th>AOV</th>\n",
       "    </tr>\n",
       "  </thead>\n",
       "  <tbody>\n",
       "    <tr>\n",
       "      <th>0</th>\n",
       "      <td>Nagpur)</td>\n",
       "      <td>381070</td>\n",
       "      <td>2139</td>\n",
       "      <td>178.15</td>\n",
       "    </tr>\n",
       "    <tr>\n",
       "      <th>7</th>\n",
       "      <td>Vesu)</td>\n",
       "      <td>477581</td>\n",
       "      <td>2507</td>\n",
       "      <td>190.50</td>\n",
       "    </tr>\n",
       "    <tr>\n",
       "      <th>5</th>\n",
       "      <td>Vaishali Nagar)</td>\n",
       "      <td>564067</td>\n",
       "      <td>2955</td>\n",
       "      <td>190.89</td>\n",
       "    </tr>\n",
       "    <tr>\n",
       "      <th>6</th>\n",
       "      <td>Kharadi)</td>\n",
       "      <td>759165</td>\n",
       "      <td>4229</td>\n",
       "      <td>179.51</td>\n",
       "    </tr>\n",
       "    <tr>\n",
       "      <th>2</th>\n",
       "      <td>Chandkheda)</td>\n",
       "      <td>886763</td>\n",
       "      <td>4739</td>\n",
       "      <td>187.12</td>\n",
       "    </tr>\n",
       "    <tr>\n",
       "      <th>4</th>\n",
       "      <td>Vijaynagar)</td>\n",
       "      <td>922195</td>\n",
       "      <td>5241</td>\n",
       "      <td>175.96</td>\n",
       "    </tr>\n",
       "    <tr>\n",
       "      <th>3</th>\n",
       "      <td>Alkapuri)</td>\n",
       "      <td>989623</td>\n",
       "      <td>5427</td>\n",
       "      <td>182.35</td>\n",
       "    </tr>\n",
       "    <tr>\n",
       "      <th>1</th>\n",
       "      <td>Bodakdev)</td>\n",
       "      <td>1842506</td>\n",
       "      <td>9772</td>\n",
       "      <td>188.55</td>\n",
       "    </tr>\n",
       "  </tbody>\n",
       "</table>\n",
       "</div>"
      ],
      "text/plain": [
       "             outlet  item_total  item_quantity     AOV\n",
       "0           Nagpur)      381070           2139  178.15\n",
       "7             Vesu)      477581           2507  190.50\n",
       "5   Vaishali Nagar)      564067           2955  190.89\n",
       "6          Kharadi)      759165           4229  179.51\n",
       "2       Chandkheda)      886763           4739  187.12\n",
       "4       Vijaynagar)      922195           5241  175.96\n",
       "3         Alkapuri)      989623           5427  182.35\n",
       "1         Bodakdev)     1842506           9772  188.55"
      ]
     },
     "execution_count": 22,
     "metadata": {},
     "output_type": "execute_result"
    }
   ],
   "source": [
    "outlet_df=outlet_df.sort_values('item_quantity')\n",
    "outlet_df.head(10)"
   ]
  },
  {
   "cell_type": "code",
   "execution_count": 23,
   "metadata": {},
   "outputs": [
    {
     "data": {
      "image/png": "[encoded data removed]",
      "text/plain": [
       "<Figure size 720x360 with 1 Axes>"
      ]
     },
     "metadata": {
      "needs_background": "light"
     },
     "output_type": "display_data"
    }
   ],
   "source": [
    "sum_orders_brand = data.groupby('brand').item_total.sum()\n",
    "No_of_orders_brand = data.groupby('brand').item_quantity.sum()\n",
    "sum_orders_brand=pd.DataFrame(sum_orders_brand)\n",
    "No_of_orders_brand=pd.DataFrame(No_of_orders_brand)\n",
    "brand_df = pd.concat([sum_orders_brand,No_of_orders_brand],axis=1)\n",
    "brand_df.reset_index(inplace=True)\n",
    "brand_df[['AOV']] = np.round(brand_df['item_total']/brand_df['item_quantity'],2)\n",
    "\n",
    "import matplotlib.pyplot as plt\n",
    "brand_df=brand_df.sort_values('AOV')\n",
    "plt.figure(figsize=(10,5))\n",
    "plt.bar(brand_df['brand'],brand_df['AOV'],color ='skyblue',width = 0.4)\n",
    "plt.xlabel(\"BigSpoon Brands\")\n",
    "plt.ylabel(\"Average AOV\")\n",
    "plt.title(\"Average AOV in all the Brands\")\n",
    "plt.show()"
   ]
  },
  {
   "cell_type": "code",
   "execution_count": 24,
   "metadata": {},
   "outputs": [
    {
     "data": {
      "text/html": [
       "<div>\n",
       "<style scoped>\n",
       "    .dataframe tbody tr th:only-of-type {\n",
       "        vertical-align: middle;\n",
       "    }\n",
       "\n",
       "    .dataframe tbody tr th {\n",
       "        vertical-align: top;\n",
       "    }\n",
       "\n",
       "    .dataframe thead th {\n",
       "        text-align: right;\n",
       "    }\n",
       "</style>\n",
       "<table border=\"1\" class=\"dataframe\">\n",
       "  <thead>\n",
       "    <tr style=\"text-align: right;\">\n",
       "      <th></th>\n",
       "      <th>brand</th>\n",
       "      <th>item_total</th>\n",
       "      <th>item_quantity</th>\n",
       "      <th>AOV</th>\n",
       "    </tr>\n",
       "  </thead>\n",
       "  <tbody>\n",
       "    <tr>\n",
       "      <th>1</th>\n",
       "      <td>Meals101</td>\n",
       "      <td>2291879</td>\n",
       "      <td>14547</td>\n",
       "      <td>157.55</td>\n",
       "    </tr>\n",
       "    <tr>\n",
       "      <th>3</th>\n",
       "      <td>Thali Central</td>\n",
       "      <td>250618</td>\n",
       "      <td>1478</td>\n",
       "      <td>169.57</td>\n",
       "    </tr>\n",
       "    <tr>\n",
       "      <th>2</th>\n",
       "      <td>Oven &amp; Grill</td>\n",
       "      <td>1128292</td>\n",
       "      <td>5693</td>\n",
       "      <td>198.19</td>\n",
       "    </tr>\n",
       "    <tr>\n",
       "      <th>0</th>\n",
       "      <td>Makhni Brothers</td>\n",
       "      <td>3152181</td>\n",
       "      <td>15291</td>\n",
       "      <td>206.15</td>\n",
       "    </tr>\n",
       "  </tbody>\n",
       "</table>\n",
       "</div>"
      ],
      "text/plain": [
       "             brand  item_total  item_quantity     AOV\n",
       "1         Meals101     2291879          14547  157.55\n",
       "3    Thali Central      250618           1478  169.57\n",
       "2     Oven & Grill     1128292           5693  198.19\n",
       "0  Makhni Brothers     3152181          15291  206.15"
      ]
     },
     "execution_count": 24,
     "metadata": {},
     "output_type": "execute_result"
    }
   ],
   "source": [
    "brand_df.head()"
   ]
  },
  {
   "cell_type": "code",
   "execution_count": 29,
   "metadata": {},
   "outputs": [
    {
     "data": {
      "image/png": "[encoded data removed]",
      "text/plain": [
       "<Figure size 504x360 with 1 Axes>"
      ]
     },
     "metadata": {
      "needs_background": "light"
     },
     "output_type": "display_data"
    }
   ],
   "source": [
    "sum_orders_channel = data.groupby('channel').item_total.sum()\n",
    "No_of_orders_channel = data.groupby('channel').item_quantity.sum()\n",
    "sum_orders_channel=pd.DataFrame(sum_orders_channel)\n",
    "No_of_orders_channel=pd.DataFrame(No_of_orders_channel)\n",
    "channel_df = pd.concat([sum_orders_channel,No_of_orders_channel],axis=1)\n",
    "channel_df.reset_index(inplace=True)\n",
    "channel_df[['AOV']] = np.round(channel_df['item_total']/channel_df['item_quantity'],2)\n",
    "\n",
    "import matplotlib.pyplot as plt\n",
    "channel_df=channel_df.sort_values('AOV')\n",
    "plt.figure(figsize=(7,5))\n",
    "plt.bar(channel_df['channel'],channel_df['AOV'],color ='skyblue',width = 0.4)\n",
    "plt.xlabel(\"BigSpoon Channels\")\n",
    "plt.ylabel(\"Average AOV\")\n",
    "plt.title(\"Average AOV in all the Channels\")\n",
    "plt.show()"
   ]
  },
  {
   "cell_type": "code",
   "execution_count": 30,
   "metadata": {},
   "outputs": [
    {
     "data": {
      "text/html": [
       "<div>\n",
       "<style scoped>\n",
       "    .dataframe tbody tr th:only-of-type {\n",
       "        vertical-align: middle;\n",
       "    }\n",
       "\n",
       "    .dataframe tbody tr th {\n",
       "        vertical-align: top;\n",
       "    }\n",
       "\n",
       "    .dataframe thead th {\n",
       "        text-align: right;\n",
       "    }\n",
       "</style>\n",
       "<table border=\"1\" class=\"dataframe\">\n",
       "  <thead>\n",
       "    <tr style=\"text-align: right;\">\n",
       "      <th></th>\n",
       "      <th>channel</th>\n",
       "      <th>item_total</th>\n",
       "      <th>item_quantity</th>\n",
       "      <th>AOV</th>\n",
       "    </tr>\n",
       "  </thead>\n",
       "  <tbody>\n",
       "    <tr>\n",
       "      <th>1</th>\n",
       "      <td>Swiggy</td>\n",
       "      <td>3445910</td>\n",
       "      <td>18799</td>\n",
       "      <td>183.30</td>\n",
       "    </tr>\n",
       "    <tr>\n",
       "      <th>2</th>\n",
       "      <td>Zomato</td>\n",
       "      <td>3082385</td>\n",
       "      <td>16660</td>\n",
       "      <td>185.02</td>\n",
       "    </tr>\n",
       "    <tr>\n",
       "      <th>0</th>\n",
       "      <td>App/Web</td>\n",
       "      <td>294675</td>\n",
       "      <td>1550</td>\n",
       "      <td>190.11</td>\n",
       "    </tr>\n",
       "  </tbody>\n",
       "</table>\n",
       "</div>"
      ],
      "text/plain": [
       "   channel  item_total  item_quantity     AOV\n",
       "1   Swiggy     3445910          18799  183.30\n",
       "2   Zomato     3082385          16660  185.02\n",
       "0  App/Web      294675           1550  190.11"
      ]
     },
     "execution_count": 30,
     "metadata": {},
     "output_type": "execute_result"
    }
   ],
   "source": [
    "channel_df.head()"
   ]
  },
  {
   "cell_type": "code",
   "execution_count": 31,
   "metadata": {},
   "outputs": [],
   "source": [
    "discounts = data.groupby('channel').discount.sum()"
   ]
  },
  {
   "cell_type": "code",
   "execution_count": 36,
   "metadata": {},
   "outputs": [
    {
     "data": {
      "text/html": [
       "<div>\n",
       "<style scoped>\n",
       "    .dataframe tbody tr th:only-of-type {\n",
       "        vertical-align: middle;\n",
       "    }\n",
       "\n",
       "    .dataframe tbody tr th {\n",
       "        vertical-align: top;\n",
       "    }\n",
       "\n",
       "    .dataframe thead th {\n",
       "        text-align: right;\n",
       "    }\n",
       "</style>\n",
       "<table border=\"1\" class=\"dataframe\">\n",
       "  <thead>\n",
       "    <tr style=\"text-align: right;\">\n",
       "      <th></th>\n",
       "      <th>discount</th>\n",
       "    </tr>\n",
       "    <tr>\n",
       "      <th>channel</th>\n",
       "      <th></th>\n",
       "    </tr>\n",
       "  </thead>\n",
       "  <tbody>\n",
       "    <tr>\n",
       "      <th>App/Web</th>\n",
       "      <td>245231.450</td>\n",
       "    </tr>\n",
       "    <tr>\n",
       "      <th>Swiggy</th>\n",
       "      <td>1715499.748</td>\n",
       "    </tr>\n",
       "    <tr>\n",
       "      <th>Zomato</th>\n",
       "      <td>1183549.240</td>\n",
       "    </tr>\n",
       "  </tbody>\n",
       "</table>\n",
       "</div>"
      ],
      "text/plain": [
       "            discount\n",
       "channel             \n",
       "App/Web   245231.450\n",
       "Swiggy   1715499.748\n",
       "Zomato   1183549.240"
      ]
     },
     "execution_count": 36,
     "metadata": {},
     "output_type": "execute_result"
    }
   ],
   "source": [
    "discounts = pd.DataFrame(discounts)\n",
    "discounts.sort_values('discount')"
   ]
  },
  {
   "cell_type": "code",
   "execution_count": 33,
   "metadata": {},
   "outputs": [
    {
     "data": {
      "text/plain": [
       "<AxesSubplot:xlabel='channel'>"
      ]
     },
     "execution_count": 33,
     "metadata": {},
     "output_type": "execute_result"
    },
    {
     "data": {
      "image/png": "[encoded data removed]",
      "text/plain": [
       "<Figure size 432x288 with 1 Axes>"
      ]
     },
     "metadata": {
      "needs_background": "light"
     },
     "output_type": "display_data"
    }
   ],
   "source": []
  },
  {
   "cell_type": "code",
   "execution_count": 40,
   "metadata": {},
   "outputs": [
    {
     "data": {
      "text/html": [
       "<div>\n",
       "<style scoped>\n",
       "    .dataframe tbody tr th:only-of-type {\n",
       "        vertical-align: middle;\n",
       "    }\n",
       "\n",
       "    .dataframe tbody tr th {\n",
       "        vertical-align: top;\n",
       "    }\n",
       "\n",
       "    .dataframe thead th {\n",
       "        text-align: right;\n",
       "    }\n",
       "</style>\n",
       "<table border=\"1\" class=\"dataframe\">\n",
       "  <thead>\n",
       "    <tr style=\"text-align: right;\">\n",
       "      <th></th>\n",
       "      <th></th>\n",
       "      <th>status</th>\n",
       "    </tr>\n",
       "    <tr>\n",
       "      <th>channel</th>\n",
       "      <th>status</th>\n",
       "      <th></th>\n",
       "    </tr>\n",
       "  </thead>\n",
       "  <tbody>\n",
       "    <tr>\n",
       "      <th rowspan=\"2\" valign=\"top\">App/Web</th>\n",
       "      <th>Success</th>\n",
       "      <td>1130</td>\n",
       "    </tr>\n",
       "    <tr>\n",
       "      <th>Cancelled</th>\n",
       "      <td>25</td>\n",
       "    </tr>\n",
       "    <tr>\n",
       "      <th rowspan=\"2\" valign=\"top\">Swiggy</th>\n",
       "      <th>Success</th>\n",
       "      <td>16686</td>\n",
       "    </tr>\n",
       "    <tr>\n",
       "      <th>Cancelled</th>\n",
       "      <td>403</td>\n",
       "    </tr>\n",
       "    <tr>\n",
       "      <th>Zomato</th>\n",
       "      <th>Success</th>\n",
       "      <td>14494</td>\n",
       "    </tr>\n",
       "  </tbody>\n",
       "</table>\n",
       "</div>"
      ],
      "text/plain": [
       "                   status\n",
       "channel status           \n",
       "App/Web Success      1130\n",
       "        Cancelled      25\n",
       "Swiggy  Success     16686\n",
       "        Cancelled     403\n",
       "Zomato  Success     14494"
      ]
     },
     "execution_count": 40,
     "metadata": {},
     "output_type": "execute_result"
    }
   ],
   "source": [
    "status = data.groupby('channel').status.value_counts()\n",
    "status = pd.DataFrame(status)\n",
    "status.head()"
   ]
  },
  {
   "cell_type": "code",
   "execution_count": 54,
   "metadata": {},
   "outputs": [
    {
     "name": "stdout",
     "output_type": "stream",
     "text": [
      "The Success ratio for App/Web is 97.84\n",
      "The Success ratio for Swiggy is 97.64\n",
      "The Success ratio for Zomato is 100.0\n"
     ]
    }
   ],
   "source": [
    "total_app = status.iloc[0]+status.iloc[1]\n",
    "App_success_ratio = np.round((status.iloc[0]/total_app)*100,2)\n",
    "total_Swiggy = status.iloc[2]+status.iloc[3]\n",
    "Swiggy_success_ratio = np.round((status.iloc[2]/total_Swiggy)*100,2)\n",
    "total_Zomato = status.iloc[4]\n",
    "Zomato_success_ratio = np.round((status.iloc[4]/total_Zomato)*100,2)\n",
    "\n",
    "print(\"The Success ratio for App/Web is\", App_success_ratio[0])\n",
    "print(\"The Success ratio for Swiggy is\", Swiggy_success_ratio[0])\n",
    "print(\"The Success ratio for Zomato is\", Zomato_success_ratio[0])\n"
   ]
  },
  {
   "cell_type": "code",
   "execution_count": 64,
   "metadata": {},
   "outputs": [],
   "source": [
    "cc=data.groupby('channel').container_charge.sum()\n",
    "total_cc = cc[0]+cc[1]+cc[2]\n",
    "App_cc =(cc[0]/total_cc)\n",
    "Swiggy_cc =(cc[1]/total_cc)\n",
    "Zomato_cc =(cc[2]/total_cc)\n"
   ]
  },
  {
   "cell_type": "code",
   "execution_count": 65,
   "metadata": {},
   "outputs": [
    {
     "data": {
      "text/plain": [
       "0.0687672085200164"
      ]
     },
     "execution_count": 65,
     "metadata": {},
     "output_type": "execute_result"
    }
   ],
   "source": [
    "App_cc"
   ]
  },
  {
   "cell_type": "code",
   "execution_count": 70,
   "metadata": {},
   "outputs": [
    {
     "name": "stdout",
     "output_type": "stream",
     "text": [
      "The Container charge ratio for App/Web is 6.88\n",
      "The Container charge for Swiggy is 43.11\n",
      "The Container charge for Zomato is 50.01\n"
     ]
    }
   ],
   "source": [
    "print(\"The Container charge ratio for App/Web is\", np.round(App_cc*100,2))\n",
    "print(\"The Container charge for Swiggy is\",  np.round(Swiggy_cc*100,2))\n",
    "print(\"The Container charge for Zomato is\",  np.round(Zomato_cc*100,2))\n"
   ]
  },
  {
   "cell_type": "code",
   "execution_count": null,
   "metadata": {},
   "outputs": [],
   "source": []
  }
 ],
 "metadata": {
  "kernelspec": {
   "display_name": "Python 3",
   "language": "python",
   "name": "python3"
  },
  "language_info": {
   "codemirror_mode": {
    "name": "ipython",
    "version": 3
   },
   "file_extension": ".py",
   "mimetype": "text/x-python",
   "name": "python",
   "nbconvert_exporter": "python",
   "pygments_lexer": "ipython3",
   "version": "3.8.5"
  }
 },
 "nbformat": 4,
 "nbformat_minor": 4
}
